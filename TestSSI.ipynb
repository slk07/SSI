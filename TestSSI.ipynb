{
 "cells": [
  {
   "cell_type": "code",
   "execution_count": null,
   "id": "90d5f62f",
   "metadata": {},
   "outputs": [],
   "source": []
  },
  {
   "cell_type": "markdown",
   "id": "3e531218",
   "metadata": {},
   "source": [
    "## python\n",
    "```\n",
    "for i in range():\n",
    "```"
   ]
  },
  {
   "cell_type": "markdown",
   "id": "762317b6",
   "metadata": {},
   "source": []
  }
 ],
 "metadata": {
  "language_info": {
   "name": "python"
  }
 },
 "nbformat": 4,
 "nbformat_minor": 5
}
